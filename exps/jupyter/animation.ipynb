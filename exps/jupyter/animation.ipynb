{
 "cells": [
  {
   "cell_type": "code",
   "execution_count": 1,
   "id": "e5002dad",
   "metadata": {},
   "outputs": [],
   "source": [
    "import glob\n",
    "from PIL import Image"
   ]
  },
  {
   "cell_type": "code",
   "execution_count": 5,
   "id": "8b85aa5d",
   "metadata": {},
   "outputs": [],
   "source": [
    "def make_gif(nf):\n",
    "    \n",
    "    dirs = '../../../../../ExpDataDARPA/figs/'\n",
    "    frames = [Image.open(dirs + 'smc_{}.png'.format(i + 1)) for i in range(nf)]\n",
    "#     frames = [Image.open(image) for image in glob.glob(f\"{'../../../../ExpDataDARPA/figs'}/*.png\")]\n",
    "    frame_one = frames[0]\n",
    "    frame_one.save(\"smc.gif\", format=\"GIF\", append_images=frames,\n",
    "               save_all=True, duration=100, loop=0)"
   ]
  },
  {
   "cell_type": "code",
   "execution_count": 9,
   "id": "797d9b52",
   "metadata": {},
   "outputs": [],
   "source": [
    "make_gif(nf=450)"
   ]
  },
  {
   "cell_type": "code",
   "execution_count": null,
   "id": "68cf691b",
   "metadata": {},
   "outputs": [],
   "source": []
  }
 ],
 "metadata": {
  "kernelspec": {
   "display_name": "Python 3 (ipykernel)",
   "language": "python",
   "name": "python3"
  },
  "language_info": {
   "codemirror_mode": {
    "name": "ipython",
    "version": 3
   },
   "file_extension": ".py",
   "mimetype": "text/x-python",
   "name": "python",
   "nbconvert_exporter": "python",
   "pygments_lexer": "ipython3",
   "version": "3.11.3"
  }
 },
 "nbformat": 4,
 "nbformat_minor": 5
}
