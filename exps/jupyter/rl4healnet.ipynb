{
 "cells": [
  {
   "cell_type": "code",
   "execution_count": 1,
   "id": "790d2e0d",
   "metadata": {},
   "outputs": [],
   "source": [
    "from __future__ import division\n",
    "\n",
    "import os\n",
    "os.environ['KMP_DUPLICATE_LIB_OK']='True'\n",
    "import time\n",
    "import sys\n",
    "sys.path.insert(0, '..')\n",
    "\n",
    "import random\n",
    "import numpy as np\n",
    "import pandas as pd\n",
    "from collections import deque\n",
    "from scipy.integrate import odeint\n",
    "\n",
    "%matplotlib inline\n",
    "import matplotlib\n",
    "import matplotlib.pyplot as plt\n",
    "from matplotlib import cm\n",
    "import matplotlib.patches as mpatches\n",
    "from mpl_toolkits.mplot3d import Axes3D\n",
    "import matplotlib.pyplot as plt\n",
    "\n",
    "import torch\n",
    "import torch.nn as nn\n",
    "import torch.nn.functional as F\n",
    "import torch.optim as optim\n",
    "from torch.distributions import Categorical\n",
    "from torch.utils.tensorboard import SummaryWriter\n",
    "\n",
    "from algs.td3 import Agent_TD3\n",
    "from algs.ppo import Agent_PPO\n",
    "from algs.a2c import Agent_A2C\n",
    "from envs.env import WoundEnv, SimpleEnv, HealNetEnv, healnet, ion_concentration\n",
    "from cfgs.config import GetParameters"
   ]
  },
  {
   "cell_type": "code",
   "execution_count": 2,
   "id": "c6bd2a2b",
   "metadata": {},
   "outputs": [],
   "source": [
    "args = GetParameters()\n",
    "args.alg_rl = 'a2c'\n",
    "args.model_dir = '../../../../res_wound_rl/res_healnet/models/models_{}/'.format(args.alg_rl)\n",
    "args.data_dir = '../../../../res_wound_rl/res_healnet/data/data_{}/'.format(args.alg_rl)\n",
    "args.figs_dir = '../../../../res_wound_rl/res_healnet/figs/figs_{}/'.format(args.alg_rl)\n",
    "\n",
    "dirs = [args.model_dir, args.data_dir, args.figs_dir]\n",
    "for dirtmp in dirs:\n",
    "    if not os.path.exists(dirtmp):\n",
    "        os.makedirs(dirtmp)"
   ]
  },
  {
   "cell_type": "code",
   "execution_count": 3,
   "id": "14f8fcc1",
   "metadata": {},
   "outputs": [
    {
     "data": {
      "text/plain": [
       "[<matplotlib.lines.Line2D at 0x22a7d8b14d0>]"
      ]
     },
     "execution_count": 3,
     "metadata": {},
     "output_type": "execute_result"
    },
    {
     "data": {
      "image/png": "[encoded data removed]",
      "text/plain": [
       "<Figure size 640x480 with 1 Axes>"
      ]
     },
     "metadata": {},
     "output_type": "display_data"
    }
   ],
   "source": [
    "# args.X_pump = 60\n",
    "# args.n_cells = 100\n",
    "tetta = np.array([ion_concentration(i - args.X_pump) for i in range(args.n_cells)])\n",
    "plt.plot(tetta)"
   ]
  },
  {
   "cell_type": "code",
   "execution_count": null,
   "id": "fdc8d673",
   "metadata": {},
   "outputs": [],
   "source": [
    "plt.plot(tetta)"
   ]
  },
  {
   "cell_type": "code",
   "execution_count": null,
   "id": "e52b4aa2",
   "metadata": {},
   "outputs": [],
   "source": [
    "env = WoundEnv(args)\n",
    "agent = Agent_A2C(env, args)\n",
    "model_idx = 100\n",
    "agent.model.load_state_dict(torch.load(args.model_dir + \n",
    "                                       'checkpoint_anum_{}_ep_{}.pth'.format(500, model_idx)))"
   ]
  },
  {
   "cell_type": "code",
   "execution_count": null,
   "id": "4c5533e5",
   "metadata": {},
   "outputs": [],
   "source": [
    "states_buf = np.empty([0, 5 * env.n_cells])\n",
    "action_buf = np.empty([0, 2])\n",
    "state = env.reset()\n",
    "t = score = 0\n",
    "while env.cnter <= args.t_nums:\n",
    "    action = agent.act(state)\n",
    "    action_buf = np.vstack([action_buf, action])\n",
    "    next_state, reward, done, info = env.step(action)\n",
    "    states_buf = np.vstack([states_buf, info])\n",
    "    if env.cnter > args.t_nums:\n",
    "        break\n",
    "    "
   ]
  },
  {
   "cell_type": "code",
   "execution_count": null,
   "id": "47cd12ef",
   "metadata": {},
   "outputs": [],
   "source": [
    "states_buf = states_buf.reshape(-1, 5, env.n_cells)"
   ]
  },
  {
   "cell_type": "code",
   "execution_count": null,
   "id": "c479ef54",
   "metadata": {},
   "outputs": [],
   "source": [
    "t_range = np.array(range(len(states_buf)))\n",
    "\n",
    "fig = plt.figure(figsize=(16, 4), num=1)\n",
    "\n",
    "ax = fig.add_subplot(111)\n",
    "ax.plot(t_range, states_buf[:, 0, 0], color='r', linestyle='-', label='Debris')\n",
    "ax.plot(t_range, states_buf[:, 1, 0], color='g', linestyle='-', label='M1')\n",
    "ax.plot(t_range, states_buf[:, 2, 0], color='b', linestyle='-', label='M2')\n",
    "ax.plot(t_range, states_buf[:, 3, 0] / 5, color='m', linestyle='-', label='Temp')\n",
    "ax.plot(t_range, states_buf[:, 4, 0], color='y', linestyle='-', label='New')\n",
    "ax.set_xlabel(\"t, days\")\n",
    "ax.legend()\n",
    "plt.show()"
   ]
  },
  {
   "cell_type": "code",
   "execution_count": null,
   "id": "d573cd5e",
   "metadata": {},
   "outputs": [],
   "source": []
  }
 ],
 "metadata": {
  "kernelspec": {
   "display_name": "Python 3 (ipykernel)",
   "language": "python",
   "name": "python3"
  },
  "language_info": {
   "codemirror_mode": {
    "name": "ipython",
    "version": 3
   },
   "file_extension": ".py",
   "mimetype": "text/x-python",
   "name": "python",
   "nbconvert_exporter": "python",
   "pygments_lexer": "ipython3",
   "version": "3.11.3"
  }
 },
 "nbformat": 4,
 "nbformat_minor": 5
}
